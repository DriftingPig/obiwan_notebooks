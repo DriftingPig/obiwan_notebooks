{
 "cells": [
  {
   "cell_type": "code",
   "execution_count": 2,
   "metadata": {},
   "outputs": [],
   "source": [
    "'''\n",
    "list of bricks that I finished are in:\n",
    "/global/cscratch1/sd/huikong/obiwan_Aug/repos_for_docker/obiwan_code/py/obiwan/Drones/obiwan_analysis/preprocess/brickstat/dr8_10deg2/FinishedBricks.txt\n",
    "\n",
    "dr8-obiwan catalogs of these bricks are in:\n",
    "topdir+'/tractor/'+brickname[:3]+'/'+brickname+'/rs0/'+'tractor-'+brickname+'.fits'\n",
    "\n",
    "\n",
    "for running dr8-obiwan\n",
    "docker image on nersc is:driftingpig/obiwan_dr8:step11\n",
    "\n",
    "my script for running obiwan is at:\n",
    "/global/cscratch1/sd/huikong/obiwan_Aug/repos_for_docker/obiwan_code/dr8/\n",
    "\n",
    "top level slurm running script is:\n",
    "/global/cscratch1/sd/huikong/obiwan_Aug/repos_for_docker/obiwan_code/dr8/mpi4py_run_copy/slurm_all_bricks.sh\n",
    "\n",
    "analysis notebook:\n",
    "/global/cscratch1/sd/huikong/obiwan_Aug/repos_for_docker/obiwan_code/py/ipynb/dr8_10deg2.ipynb\n",
    "'''"
   ]
  },
  {
   "cell_type": "code",
   "execution_count": 1,
   "metadata": {},
   "outputs": [],
   "source": [
    "topdir = '/global/cscratch1/sd/huikong/obiwan_Aug/repos_for_docker/obiwan_out/dr8_10deg2/'"
   ]
  },
  {
   "cell_type": "code",
   "execution_count": 2,
   "metadata": {},
   "outputs": [],
   "source": [
    "import numpy as np\n",
    "bricknames = np.loadtxt('/global/cscratch1/sd/huikong/obiwan_Aug/repos_for_docker/obiwan_code/py/obiwan/Drones/obiwan_analysis/preprocess/brickstat/dr8_10deg2/FinishedBricks.txt'\n",
    "                       ,dtype=np.str)"
   ]
  },
  {
   "cell_type": "code",
   "execution_count": 3,
   "metadata": {},
   "outputs": [],
   "source": [
    "import astropy.io.fits as fits\n",
    "tot_dat = None\n",
    "tot_sims = None\n",
    "for brickname in bricknames:\n",
    "    dat = fits.getdata(topdir+'/tractor/'+brickname[:3]+'/'+brickname+'/rs0/'+'tractor-'+brickname+'.fits')\n",
    "    sim = fits.getdata(topdir+'/obiwan/'+brickname[:3]+'/'+brickname+'/rs0/'+'simcat-elg-'+brickname+'.fits')\n",
    "    if tot_dat is None:\n",
    "        tot_dat = dat\n",
    "        tot_sims = sim\n",
    "    else:\n",
    "        tot_dat = np.hstack((tot_dat,dat))\n",
    "        tot_sims = np.hstack((tot_sims,sim))"
   ]
  },
  {
   "cell_type": "code",
   "execution_count": 4,
   "metadata": {},
   "outputs": [],
   "source": [
    "from astropy.table import Column, Table\n",
    "from astropy.coordinates import SkyCoord\n",
    "from astropy import units as u"
   ]
  },
  {
   "cell_type": "code",
   "execution_count": 5,
   "metadata": {},
   "outputs": [],
   "source": [
    "angle = 1.5/3600\n",
    "c1 = SkyCoord(ra=tot_dat['ra']*u.degree, dec=tot_dat['dec']*u.degree)\n",
    "c2 = SkyCoord(ra=tot_sims['ra']*u.degree, dec=tot_sims['dec']*u.degree)\n",
    "idx, d2d, d3d = c1.match_to_catalog_sky(c2)\n",
    "w = d2d.value <= angle\n",
    "idx[~w] = -1 "
   ]
  },
  {
   "cell_type": "code",
   "execution_count": 6,
   "metadata": {},
   "outputs": [],
   "source": [
    "import matplotlib.pyplot as plt\n",
    "idx1 = np.where(w)[0]\n",
    "idx2 = idx[idx>-1]\n",
    "dat_m = tot_dat[idx1]\n",
    "sim_m = tot_sims[idx2]"
   ]
  },
  {
   "cell_type": "code",
   "execution_count": 7,
   "metadata": {},
   "outputs": [
    {
     "data": {
      "image/png": "[encoded data removed]",
      "text/plain": [
       "<matplotlib.figure.Figure at 0x2aaaed3a2278>"
      ]
     },
     "metadata": {},
     "output_type": "display_data"
    }
   ],
   "source": [
    "#g\n",
    "plt.figure(figsize = (7,7))\n",
    "sel = (dat_m['flux_g']>0)\n",
    "g_dat  = 22.5 - 2.5 * np.log10(dat_m['flux_g'][sel] / dat_m['mw_transmission_g'][sel])\n",
    "g_sim = 22.5 - 2.5 * np.log10(sim_m['gflux'][sel] / sim_m['mw_transmission_g'][sel])\n",
    "\n",
    "plt.subplot(2,2,1)\n",
    "plt.title('mean:%.4f std:%.4f'%((g_dat-g_sim).mean(),(g_dat-g_sim).std()))\n",
    "p = plt.hist(g_dat-g_sim,bins = 200)\n",
    "#r\n",
    "sel = (dat_m['flux_r']>0)\n",
    "r_dat  = 22.5 - 2.5 * np.log10(dat_m['flux_r'][sel] / dat_m['mw_transmission_r'][sel])\n",
    "r_sim = 22.5 - 2.5 * np.log10(sim_m['rflux'][sel] / sim_m['mw_transmission_r'][sel])\n",
    "plt.subplot(2,2,2)\n",
    "plt.title('mean:%.4f std:%.4f'%((r_dat-r_sim).mean(),(r_dat-r_sim).std()))\n",
    "p = plt.hist(r_dat-r_sim,bins = 200)\n",
    "#z\n",
    "sel = (dat_m['flux_z']>0)\n",
    "z_dat  = 22.5 - 2.5 * np.log10(dat_m['flux_z'][sel] / dat_m['mw_transmission_z'][sel])\n",
    "z_sim = 22.5 - 2.5 * np.log10(sim_m['zflux'][sel] / sim_m['mw_transmission_z'][sel])\n",
    "plt.subplot(2,2,3)\n",
    "plt.title('mean:%.4f std:%.4f'%((z_dat-z_sim).mean(),(z_dat-z_sim).std()))\n",
    "p = plt.hist(z_dat-z_sim,bins = 200)\n",
    "\n",
    "plt.tight_layout()"
   ]
  },
  {
   "cell_type": "code",
   "execution_count": null,
   "metadata": {},
   "outputs": [],
   "source": []
  }
 ],
 "metadata": {
  "kernelspec": {
   "display_name": "DESI 19.2",
   "language": "python",
   "name": "desi-19.2"
  },
  "language_info": {
   "codemirror_mode": {
    "name": "ipython",
    "version": 3
   },
   "file_extension": ".py",
   "mimetype": "text/x-python",
   "name": "python",
   "nbconvert_exporter": "python",
   "pygments_lexer": "ipython3",
   "version": "3.6.6"
  }
 },
 "nbformat": 4,
 "nbformat_minor": 4
}
