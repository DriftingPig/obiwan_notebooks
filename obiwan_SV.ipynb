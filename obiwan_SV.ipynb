{
 "cells": [
  {
   "cell_type": "code",
   "execution_count": 1,
   "metadata": {},
   "outputs": [
    {
     "name": "stderr",
     "output_type": "stream",
     "text": [
      "/global/common/software/desi/cori/desiconda/20180709-1.2.6-spec/code/desitarget/0.28.0/lib/python3.6/site-packages/desitarget-0.28.0-py3.6.egg/desitarget/geomask.py:35: UserWarning: \n",
      "This call to matplotlib.use() has no effect because the backend has already\n",
      "been chosen; matplotlib.use() must be called *before* pylab, matplotlib.pyplot,\n",
      "or matplotlib.backends is imported for the first time.\n",
      "\n",
      "The backend was *originally* set to 'module://ipykernel.pylab.backend_inline' by the following code:\n",
      "  File \"/global/common/software/desi/cori/desiconda/20180709-1.2.6-spec/conda/lib/python3.6/runpy.py\", line 193, in _run_module_as_main\n",
      "    \"__main__\", mod_spec)\n",
      "  File \"/global/common/software/desi/cori/desiconda/20180709-1.2.6-spec/conda/lib/python3.6/runpy.py\", line 85, in _run_code\n",
      "    exec(code, run_globals)\n",
      "  File \"/global/common/software/desi/cori/desiconda/20180709-1.2.6-spec/conda/lib/python3.6/site-packages/ipykernel/__main__.py\", line 3, in <module>\n",
      "    app.launch_new_instance()\n",
      "  File \"/global/common/software/desi/cori/desiconda/20180709-1.2.6-spec/conda/lib/python3.6/site-packages/traitlets/config/application.py\", line 658, in launch_instance\n",
      "    app.start()\n",
      "  File \"/global/common/software/desi/cori/desiconda/20180709-1.2.6-spec/conda/lib/python3.6/site-packages/ipykernel/kernelapp.py\", line 486, in start\n",
      "    self.io_loop.start()\n",
      "  File \"/global/common/software/desi/cori/desiconda/20180709-1.2.6-spec/conda/lib/python3.6/site-packages/tornado/platform/asyncio.py\", line 127, in start\n",
      "    self.asyncio_loop.run_forever()\n",
      "  File \"/global/common/software/desi/cori/desiconda/20180709-1.2.6-spec/conda/lib/python3.6/asyncio/base_events.py\", line 422, in run_forever\n",
      "    self._run_once()\n",
      "  File \"/global/common/software/desi/cori/desiconda/20180709-1.2.6-spec/conda/lib/python3.6/asyncio/base_events.py\", line 1434, in _run_once\n",
      "    handle._run()\n",
      "  File \"/global/common/software/desi/cori/desiconda/20180709-1.2.6-spec/conda/lib/python3.6/asyncio/events.py\", line 145, in _run\n",
      "    self._callback(*self._args)\n",
      "  File \"/global/common/software/desi/cori/desiconda/20180709-1.2.6-spec/conda/lib/python3.6/site-packages/tornado/platform/asyncio.py\", line 117, in _handle_events\n",
      "    handler_func(fileobj, events)\n",
      "  File \"/global/common/software/desi/cori/desiconda/20180709-1.2.6-spec/conda/lib/python3.6/site-packages/tornado/stack_context.py\", line 276, in null_wrapper\n",
      "    return fn(*args, **kwargs)\n",
      "  File \"/global/common/software/desi/cori/desiconda/20180709-1.2.6-spec/conda/lib/python3.6/site-packages/zmq/eventloop/zmqstream.py\", line 450, in _handle_events\n",
      "    self._handle_recv()\n",
      "  File \"/global/common/software/desi/cori/desiconda/20180709-1.2.6-spec/conda/lib/python3.6/site-packages/zmq/eventloop/zmqstream.py\", line 480, in _handle_recv\n",
      "    self._run_callback(callback, msg)\n",
      "  File \"/global/common/software/desi/cori/desiconda/20180709-1.2.6-spec/conda/lib/python3.6/site-packages/zmq/eventloop/zmqstream.py\", line 432, in _run_callback\n",
      "    callback(*args, **kwargs)\n",
      "  File \"/global/common/software/desi/cori/desiconda/20180709-1.2.6-spec/conda/lib/python3.6/site-packages/tornado/stack_context.py\", line 276, in null_wrapper\n",
      "    return fn(*args, **kwargs)\n",
      "  File \"/global/common/software/desi/cori/desiconda/20180709-1.2.6-spec/conda/lib/python3.6/site-packages/ipykernel/kernelbase.py\", line 283, in dispatcher\n",
      "    return self.dispatch_shell(stream, msg)\n",
      "  File \"/global/common/software/desi/cori/desiconda/20180709-1.2.6-spec/conda/lib/python3.6/site-packages/ipykernel/kernelbase.py\", line 233, in dispatch_shell\n",
      "    handler(stream, idents, msg)\n",
      "  File \"/global/common/software/desi/cori/desiconda/20180709-1.2.6-spec/conda/lib/python3.6/site-packages/ipykernel/kernelbase.py\", line 399, in execute_request\n",
      "    user_expressions, allow_stdin)\n",
      "  File \"/global/common/software/desi/cori/desiconda/20180709-1.2.6-spec/conda/lib/python3.6/site-packages/ipykernel/ipkernel.py\", line 208, in do_execute\n",
      "    res = shell.run_cell(code, store_history=store_history, silent=silent)\n",
      "  File \"/global/common/software/desi/cori/desiconda/20180709-1.2.6-spec/conda/lib/python3.6/site-packages/ipykernel/zmqshell.py\", line 537, in run_cell\n",
      "    return super(ZMQInteractiveShell, self).run_cell(*args, **kwargs)\n",
      "  File \"/global/common/software/desi/cori/desiconda/20180709-1.2.6-spec/conda/lib/python3.6/site-packages/IPython/core/interactiveshell.py\", line 2662, in run_cell\n",
      "    raw_cell, store_history, silent, shell_futures)\n",
      "  File \"/global/common/software/desi/cori/desiconda/20180709-1.2.6-spec/conda/lib/python3.6/site-packages/IPython/core/interactiveshell.py\", line 2785, in _run_cell\n",
      "    interactivity=interactivity, compiler=compiler, result=result)\n",
      "  File \"/global/common/software/desi/cori/desiconda/20180709-1.2.6-spec/conda/lib/python3.6/site-packages/IPython/core/interactiveshell.py\", line 2903, in run_ast_nodes\n",
      "    if self.run_code(code, result):\n",
      "  File \"/global/common/software/desi/cori/desiconda/20180709-1.2.6-spec/conda/lib/python3.6/site-packages/IPython/core/interactiveshell.py\", line 2963, in run_code\n",
      "    exec(code_obj, self.user_global_ns, self.user_ns)\n",
      "  File \"<ipython-input-1-474d238f3d5d>\", line 2, in <module>\n",
      "    import pylab               as pl\n",
      "  File \"/global/common/software/desi/cori/desiconda/20180709-1.2.6-spec/conda/lib/python3.6/site-packages/pylab.py\", line 1, in <module>\n",
      "    from matplotlib.pylab import *\n",
      "  File \"/global/common/software/desi/cori/desiconda/20180709-1.2.6-spec/conda/lib/python3.6/site-packages/matplotlib/pylab.py\", line 257, in <module>\n",
      "    from matplotlib import cbook, mlab, pyplot as plt\n",
      "  File \"/global/common/software/desi/cori/desiconda/20180709-1.2.6-spec/conda/lib/python3.6/site-packages/matplotlib/pyplot.py\", line 72, in <module>\n",
      "    from matplotlib.backends import pylab_setup\n",
      "  File \"/global/common/software/desi/cori/desiconda/20180709-1.2.6-spec/conda/lib/python3.6/site-packages/matplotlib/backends/__init__.py\", line 14, in <module>\n",
      "    line for line in traceback.format_stack()\n",
      "\n",
      "\n",
      "  matplotlib.use('Agg')\n"
     ]
    }
   ],
   "source": [
    "import numpy               as np\n",
    "import pylab               as pl\n",
    "import matplotlib.pyplot   as plt\n",
    "import astropy.io.fits     as fits\n",
    "\n",
    "from   astropy.table       import Column, Table, join\n",
    "from   astropy.coordinates import SkyCoord\n",
    "from   astropy             import units as u\n",
    "from   desitarget          import cuts\n"
   ]
  },
  {
   "cell_type": "code",
   "execution_count": 2,
   "metadata": {},
   "outputs": [
    {
     "name": "stdout",
     "output_type": "stream",
     "text": [
      "total source:5522115 total elg:92606 ratio:0.0168\n"
     ]
    }
   ],
   "source": [
    "#topdir = '/global/project/projectdirs/cosmo/data/legacysurvey/dr8/north/tractor/'\n",
    "#tractor = topdir+'/150/tractor-1506p405.fits'\n",
    "topdir = '/global/project/projectdirs/cosmo/data/legacysurvey/dr8/south/sweep/8.0/'\n",
    "tractor = topdir + 'sweep-000m005-010p000.fits'\n",
    "\n",
    "#copied from /global/cscratch1/sd/desiproc/dr8-cosmos\n",
    "dat = fits.getdata(tractor)\n",
    "tdat = Table(dat)\n",
    "tdat['iselg']=np.array(cuts.isELG_colors(gflux=dat['flux_g'], rflux=dat['flux_r'], zflux=dat['flux_z'], south=False))\n",
    "print('total source:%d total elg:%d ratio:%.4f'\n",
    "      %(len(dat),tdat['iselg'].sum(),tdat['iselg'].sum()/len(dat)))"
   ]
  },
  {
   "cell_type": "code",
   "execution_count": 6,
   "metadata": {},
   "outputs": [
    {
     "name": "stdout",
     "output_type": "stream",
     "text": [
      "total source:5522115 total elg like:200330 ratio:0.0363\n",
      "0.4329535495179667\n"
     ]
    }
   ],
   "source": [
    "g = 22.5 - 2.5*np.log10(dat['flux_g'].clip(1e-16))\n",
    "r = 22.5 - 2.5*np.log10(dat['flux_r'].clip(1e-16))\n",
    "z = 22.5 - 2.5*np.log10(dat['flux_z'].clip(1e-16))\n",
    "tdat['isELGlike']=ELG_like_cut(g,r,z)\n",
    "print('total source:%d total elg like:%d ratio:%.4f'\n",
    "      %(len(dat),tdat['isELGlike'].sum(),tdat['isELGlike'].sum()/len(dat)))\n",
    "print(0.0494/0.1141)"
   ]
  },
  {
   "cell_type": "code",
   "execution_count": 4,
   "metadata": {},
   "outputs": [
    {
     "name": "stdout",
     "output_type": "stream",
     "text": [
      "total source:367480 total elg:7694 ratio:0.0209\n"
     ]
    },
    {
     "name": "stderr",
     "output_type": "stream",
     "text": [
      "/global/common/software/desi/cori/desiconda/20180709-1.2.6-spec/conda/lib/python3.6/site-packages/astropy/table/column.py:954: RuntimeWarning: invalid value encountered in greater\n",
      "  return getattr(self.data, op)(other)\n",
      "/global/common/software/desi/cori/desiconda/20180709-1.2.6-spec/conda/lib/python3.6/site-packages/astropy/table/column.py:954: RuntimeWarning: invalid value encountered in less\n",
      "  return getattr(self.data, op)(other)\n"
     ]
    }
   ],
   "source": [
    "fn_truth = '/global/cscratch1/sd/raichoor/desi_mcsyst/desi_mcsyst_truth.dr7.34ra38.-7dec-3.v2.fits'\n",
    "truth = fits.getdata(fn_truth)\n",
    "def ELG_cut(g,r,z,south=False):\n",
    "    elg = np.ones_like(g,dtype='?')\n",
    "    elg &= g > 20                       # bright cut.\n",
    "    elg &= r - z > 0.3                  # blue cut.\n",
    "    elg &= r - z < 1.6                  # red cut.\n",
    "    elg &= g - r < -1.2*(r - z) + 1.6   # OII flux cut.\n",
    "    # ADM cuts that are unique to the north or south.\n",
    "    if south:\n",
    "        elg &= g < 23.5  # faint cut.\n",
    "    # ADM south has the FDR cut to remove stars and low-z galaxies.\n",
    "        elg &= g - r < 1.15*(r - z) - 0.15\n",
    "    else:\n",
    "        elg &= g < 23.6  # faint cut.\n",
    "        elg &= g - r < 1.15*(r - z) - 0.35  # remove stars and low-z galaxies.\n",
    "    return elg\n",
    "ttruth = Table(truth)\n",
    "ttruth['iselg']=ELG_cut(ttruth['g'],ttruth['r'],ttruth['z'])\n",
    "print('total source:%d total elg:%d ratio:%.4f'\n",
    "      %(len(ttruth),ttruth['iselg'].sum(),ttruth['iselg'].sum()/len(ttruth)))"
   ]
  },
  {
   "cell_type": "code",
   "execution_count": 5,
   "metadata": {},
   "outputs": [
    {
     "name": "stdout",
     "output_type": "stream",
     "text": [
      "total source:367480 total elg_like:18254 ratio:0.0497\n"
     ]
    },
    {
     "name": "stderr",
     "output_type": "stream",
     "text": [
      "/global/common/software/desi/cori/desiconda/20180709-1.2.6-spec/conda/lib/python3.6/site-packages/astropy/table/column.py:954: RuntimeWarning: invalid value encountered in greater\n",
      "  return getattr(self.data, op)(other)\n",
      "/global/common/software/desi/cori/desiconda/20180709-1.2.6-spec/conda/lib/python3.6/site-packages/astropy/table/column.py:954: RuntimeWarning: invalid value encountered in less\n",
      "  return getattr(self.data, op)(other)\n"
     ]
    }
   ],
   "source": [
    "def ELG_like_cut(g,r,z,south=False):\n",
    "    elg = np.ones_like(g,dtype='?')\n",
    "    elg &= g > 19.8                       # bright cut.\n",
    "    elg &= r - z > 0.1                  # blue cut.\n",
    "    elg &= r - z < 1.8                  # red cut.\n",
    "    elg &= g - r < -1.2*(r - z) + 1.8   # OII flux cut.\n",
    "    # ADM cuts that are unique to the north or south.\n",
    "    if south:\n",
    "        elg &= g < 23.7  # faint cut.\n",
    "    # ADM south has the FDR cut to remove stars and low-z galaxies.\n",
    "        elg &= g - r < 1.15*(r - z) + 0.05\n",
    "    else:\n",
    "        elg &= g < 23.8  # faint cut.\n",
    "        elg &= g - r < 1.15*(r - z) - 0.15  # remove stars and low-z galaxies.\n",
    "    return elg\n",
    "\n",
    "\n",
    "ttruth['iselglike']=ELG_like_cut(ttruth['g'],ttruth['r'],ttruth['z'])\n",
    "print('total source:%d total elg_like:%d ratio:%.4f'\n",
    "      %(len(ttruth),ttruth['iselglike'].sum(),ttruth['iselglike'].sum()/len(ttruth)))"
   ]
  },
  {
   "cell_type": "code",
   "execution_count": 7,
   "metadata": {},
   "outputs": [
    {
     "ename": "AttributeError",
     "evalue": "'Table' object has no attribute 'writeto'",
     "output_type": "error",
     "traceback": [
      "\u001b[0;31m---------------------------------------------------------------------------\u001b[0m",
      "\u001b[0;31mAttributeError\u001b[0m                            Traceback (most recent call last)",
      "\u001b[0;32m<ipython-input-7-5db03d7f7113>\u001b[0m in \u001b[0;36m<module>\u001b[0;34m()\u001b[0m\n\u001b[1;32m      1\u001b[0m \u001b[0mttruth_elg_like\u001b[0m \u001b[0;34m=\u001b[0m \u001b[0mTable\u001b[0m\u001b[0;34m(\u001b[0m\u001b[0mttruth\u001b[0m\u001b[0;34m[\u001b[0m\u001b[0mttruth\u001b[0m\u001b[0;34m[\u001b[0m\u001b[0;34m'iselglike'\u001b[0m\u001b[0;34m]\u001b[0m\u001b[0;34m]\u001b[0m\u001b[0;34m)\u001b[0m\u001b[0;34m\u001b[0m\u001b[0m\n\u001b[0;32m----> 2\u001b[0;31m \u001b[0mttruth_elg_like\u001b[0m\u001b[0;34m.\u001b[0m\u001b[0mwriteto\u001b[0m\u001b[0;34m(\u001b[0m\u001b[0;34m'/global/cscratch1/sd/huikong/obiwan_Aug/repos_for_docker/obiwan_code/dr8/SV/elg_like.fits'\u001b[0m\u001b[0;34m)\u001b[0m\u001b[0;34m\u001b[0m\u001b[0m\n\u001b[0m",
      "\u001b[0;31mAttributeError\u001b[0m: 'Table' object has no attribute 'writeto'"
     ]
    }
   ],
   "source": [
    "ttruth_elg_like = Table(ttruth[ttruth['iselglike']])\n"
   ]
  },
  {
   "cell_type": "code",
   "execution_count": 9,
   "metadata": {},
   "outputs": [],
   "source": [
    "ttruth_elg_like.write('/global/cscratch1/sd/huikong/obiwan_Aug/repos_for_docker/obiwan_code/dr8/SV/elg_like.fits')"
   ]
  },
  {
   "cell_type": "code",
   "execution_count": 180,
   "metadata": {},
   "outputs": [
    {
     "data": {
      "text/plain": [
       "0.42052313883299797"
      ]
     },
     "execution_count": 180,
     "metadata": {},
     "output_type": "execute_result"
    }
   ],
   "source": [
    "#ratio of ELG/ELG_like\n",
    "0.0209/0.0497"
   ]
  },
  {
   "cell_type": "code",
   "execution_count": 181,
   "metadata": {},
   "outputs": [
    {
     "data": {
      "text/plain": [
       "Text(0.5,0,'r-z')"
      ]
     },
     "execution_count": 181,
     "metadata": {},
     "output_type": "execute_result"
    },
    {
     "data": {
      "image/png": "[encoded data removed]",
      "text/plain": [
       "<matplotlib.figure.Figure at 0x2aaafd5db860>"
      ]
     },
     "metadata": {},
     "output_type": "display_data"
    }
   ],
   "source": [
    "plt.figure(figsize=(10,7))\n",
    "plt.subplot(2,3,1)\n",
    "g = 22.5 - 2.5*np.log10(tdat['FLUX_G'].clip(1e-16))\n",
    "plt.hist(g[tdat['isELGlike']],histtype='step',linewidth=2,density=True,bins=50,label='tractor')\n",
    "p=plt.hist(ttruth[ttruth['iselglike']]['g'].quantity,histtype='step',linewidth=2,density=True,bins=50,label='truth')\n",
    "plt.legend(loc='upper left')\n",
    "plt.xlabel('g')\n",
    "\n",
    "plt.subplot(2,3,2)\n",
    "r = 22.5 - 2.5*np.log10(tdat['FLUX_R'].clip(1e-16))\n",
    "plt.hist(r[tdat['isELGlike']],histtype='step',linewidth=2,density=True,bins=50,label='tractor')\n",
    "p=plt.hist(ttruth[ttruth['iselglike']]['r'].quantity,histtype='step',linewidth=2,density=True,bins=50,label='truth')\n",
    "plt.legend(loc='upper left')\n",
    "plt.xlabel('r')\n",
    "\n",
    "plt.subplot(2,3,3)\n",
    "z = 22.5 - 2.5*np.log10(tdat['FLUX_Z'].clip(1e-16))\n",
    "plt.hist(z[tdat['isELGlike']],histtype='step',linewidth=2,density=True,bins=50,label='tractor')\n",
    "p=plt.hist(ttruth[ttruth['iselglike']]['z'].quantity,histtype='step',linewidth=2,density=True,bins=50,label='truth')\n",
    "plt.legend(loc='upper left')\n",
    "plt.xlabel('z')\n",
    "\n",
    "plt.subplot(2,3,4)\n",
    "plt.hist(g[tdat['isELGlike']]-r[tdat['isELGlike']],histtype='step',linewidth=2,density=True,bins=50,label='tractor')\n",
    "p=plt.hist(ttruth[ttruth['iselglike']]['g'].quantity-ttruth[ttruth['iselglike']]['r'].quantity,histtype='step',linewidth=2,density=True,bins=50,label='truth')\n",
    "plt.legend(loc='upper left')\n",
    "plt.xlabel('g-r')\n",
    "\n",
    "plt.subplot(2,3,5)\n",
    "plt.hist(r[tdat['isELGlike']]-z[tdat['isELGlike']],histtype='step',linewidth=2,density=True,bins=50,label='tractor')\n",
    "p=plt.hist(ttruth[ttruth['iselglike']]['r'].quantity-ttruth[ttruth['iselglike']]['z'].quantity,histtype='step',linewidth=2,density=True,bins=50,label='truth')\n",
    "plt.legend(loc='upper left')\n",
    "plt.xlabel('r-z')"
   ]
  },
  {
   "cell_type": "code",
   "execution_count": 182,
   "metadata": {},
   "outputs": [
    {
     "data": {
      "text/plain": [
       "[<matplotlib.lines.Line2D at 0x2aaafd6179e8>]"
      ]
     },
     "execution_count": 182,
     "metadata": {},
     "output_type": "execute_result"
    },
    {
     "data": {
      "image/png": "[encoded data removed]",
      "text/plain": [
       "<matplotlib.figure.Figure at 0x2aaafd617e10>"
      ]
     },
     "metadata": {},
     "output_type": "display_data"
    }
   ],
   "source": [
    "plt.plot(tdat['RA'],tdat['DEC'],'b,')\n",
    "plt.plot(ttruth['ra'],ttruth['dec'],'r,')"
   ]
  },
  {
   "cell_type": "code",
   "execution_count": 183,
   "metadata": {},
   "outputs": [
    {
     "name": "stdout",
     "output_type": "stream",
     "text": [
      "legacysurvey_dr8_south_sweep_8.0.sha256sum  sweep-150p010-160p015.fits\n",
      "sweep-000m005-010p000.fits\t\t    sweep-150p015-160p020.fits\n",
      "sweep-000m010-010m005.fits\t\t    sweep-150p020-160p025.fits\n",
      "sweep-000m015-010m010.fits\t\t    sweep-150p025-160p030.fits\n",
      "sweep-000m020-010m015.fits\t\t    sweep-150p030-160p035.fits\n",
      "sweep-000m025-010m020.fits\t\t    sweep-150p035-160p040.fits\n",
      "sweep-000m030-010m025.fits\t\t    sweep-160m005-170p000.fits\n",
      "sweep-000m035-010m030.fits\t\t    sweep-160m010-170m005.fits\n",
      "sweep-000m040-010m035.fits\t\t    sweep-160m015-170m010.fits\n",
      "sweep-000m045-010m040.fits\t\t    sweep-160p000-170p005.fits\n",
      "sweep-000m050-010m045.fits\t\t    sweep-160p005-170p010.fits\n",
      "sweep-000m055-010m050.fits\t\t    sweep-160p010-170p015.fits\n",
      "sweep-000m060-010m055.fits\t\t    sweep-160p015-170p020.fits\n",
      "sweep-000m065-010m060.fits\t\t    sweep-160p020-170p025.fits\n",
      "sweep-000m070-010m065.fits\t\t    sweep-160p025-170p030.fits\n",
      "sweep-000p000-010p005.fits\t\t    sweep-160p030-170p035.fits\n",
      "sweep-000p005-010p010.fits\t\t    sweep-170m005-180p000.fits\n",
      "sweep-000p010-010p015.fits\t\t    sweep-170m010-180m005.fits\n",
      "sweep-000p015-010p020.fits\t\t    sweep-170p000-180p005.fits\n",
      "sweep-000p020-010p025.fits\t\t    sweep-170p005-180p010.fits\n",
      "sweep-000p025-010p030.fits\t\t    sweep-170p010-180p015.fits\n",
      "sweep-000p030-010p035.fits\t\t    sweep-170p015-180p020.fits\n",
      "sweep-010m005-020p000.fits\t\t    sweep-170p020-180p025.fits\n",
      "sweep-010m010-020m005.fits\t\t    sweep-170p025-180p030.fits\n",
      "sweep-010m015-020m010.fits\t\t    sweep-170p030-180p035.fits\n",
      "sweep-010m020-020m015.fits\t\t    sweep-170p035-180p040.fits\n",
      "sweep-010m025-020m020.fits\t\t    sweep-180m005-190p000.fits\n",
      "sweep-010m030-020m025.fits\t\t    sweep-180m010-190m005.fits\n",
      "sweep-010m035-020m030.fits\t\t    sweep-180p000-190p005.fits\n",
      "sweep-010m040-020m035.fits\t\t    sweep-180p005-190p010.fits\n",
      "sweep-010m045-020m040.fits\t\t    sweep-180p010-190p015.fits\n",
      "sweep-010m050-020m045.fits\t\t    sweep-180p015-190p020.fits\n",
      "sweep-010m055-020m050.fits\t\t    sweep-180p020-190p025.fits\n",
      "sweep-010m060-020m055.fits\t\t    sweep-180p025-190p030.fits\n",
      "sweep-010m065-020m060.fits\t\t    sweep-180p030-190p035.fits\n",
      "sweep-010m070-020m065.fits\t\t    sweep-190m005-200p000.fits\n",
      "sweep-010p000-020p005.fits\t\t    sweep-190m010-200m005.fits\n",
      "sweep-010p005-020p010.fits\t\t    sweep-190m015-200m010.fits\n",
      "sweep-010p010-020p015.fits\t\t    sweep-190p000-200p005.fits\n",
      "sweep-010p015-020p020.fits\t\t    sweep-190p005-200p010.fits\n",
      "sweep-010p020-020p025.fits\t\t    sweep-190p010-200p015.fits\n",
      "sweep-010p025-020p030.fits\t\t    sweep-190p015-200p020.fits\n",
      "sweep-010p030-020p035.fits\t\t    sweep-190p020-200p025.fits\n",
      "sweep-020m005-030p000.fits\t\t    sweep-190p025-200p030.fits\n",
      "sweep-020m010-030m005.fits\t\t    sweep-190p030-200p035.fits\n",
      "sweep-020m015-030m010.fits\t\t    sweep-200m005-210p000.fits\n",
      "sweep-020m020-030m015.fits\t\t    sweep-200m010-210m005.fits\n",
      "sweep-020m025-030m020.fits\t\t    sweep-200m015-210m010.fits\n",
      "sweep-020m030-030m025.fits\t\t    sweep-200p000-210p005.fits\n",
      "sweep-020m035-030m030.fits\t\t    sweep-200p005-210p010.fits\n",
      "sweep-020m040-030m035.fits\t\t    sweep-200p010-210p015.fits\n",
      "sweep-020m045-030m040.fits\t\t    sweep-200p015-210p020.fits\n",
      "sweep-020m050-030m045.fits\t\t    sweep-200p020-210p025.fits\n",
      "sweep-020m055-030m050.fits\t\t    sweep-200p025-210p030.fits\n",
      "sweep-020m060-030m055.fits\t\t    sweep-200p030-210p035.fits\n",
      "sweep-020m065-030m060.fits\t\t    sweep-210m005-220p000.fits\n",
      "sweep-020m070-030m065.fits\t\t    sweep-210m010-220m005.fits\n",
      "sweep-020p000-030p005.fits\t\t    sweep-210m015-220m010.fits\n",
      "sweep-020p005-030p010.fits\t\t    sweep-210p000-220p005.fits\n",
      "sweep-020p010-030p015.fits\t\t    sweep-210p005-220p010.fits\n",
      "sweep-020p015-030p020.fits\t\t    sweep-210p010-220p015.fits\n",
      "sweep-020p020-030p025.fits\t\t    sweep-210p015-220p020.fits\n",
      "sweep-020p025-030p030.fits\t\t    sweep-210p020-220p025.fits\n",
      "sweep-020p030-030p035.fits\t\t    sweep-210p025-220p030.fits\n",
      "sweep-030m005-040p000.fits\t\t    sweep-210p030-220p035.fits\n",
      "sweep-030m010-040m005.fits\t\t    sweep-220m005-230p000.fits\n",
      "sweep-030m015-040m010.fits\t\t    sweep-220m010-230m005.fits\n",
      "sweep-030m020-040m015.fits\t\t    sweep-220m015-230m010.fits\n",
      "sweep-030m025-040m020.fits\t\t    sweep-220p000-230p005.fits\n",
      "sweep-030m030-040m025.fits\t\t    sweep-220p005-230p010.fits\n",
      "sweep-030m035-040m030.fits\t\t    sweep-220p010-230p015.fits\n",
      "sweep-030m040-040m035.fits\t\t    sweep-220p015-230p020.fits\n",
      "sweep-030m045-040m040.fits\t\t    sweep-220p020-230p025.fits\n",
      "sweep-030m050-040m045.fits\t\t    sweep-220p025-230p030.fits\n",
      "sweep-030m055-040m050.fits\t\t    sweep-220p030-230p035.fits\n",
      "sweep-030m060-040m055.fits\t\t    sweep-220p035-230p040.fits\n",
      "sweep-030m065-040m060.fits\t\t    sweep-230m005-240p000.fits\n",
      "sweep-030m070-040m065.fits\t\t    sweep-230m010-240m005.fits\n",
      "sweep-030p000-040p005.fits\t\t    sweep-230p000-240p005.fits\n",
      "sweep-030p005-040p010.fits\t\t    sweep-230p005-240p010.fits\n",
      "sweep-030p010-040p015.fits\t\t    sweep-230p010-240p015.fits\n",
      "sweep-030p015-040p020.fits\t\t    sweep-230p015-240p020.fits\n",
      "sweep-030p020-040p025.fits\t\t    sweep-230p020-240p025.fits\n",
      "sweep-030p025-040p030.fits\t\t    sweep-230p025-240p030.fits\n",
      "sweep-030p030-040p035.fits\t\t    sweep-230p030-240p035.fits\n",
      "sweep-040m005-050p000.fits\t\t    sweep-240m005-250p000.fits\n",
      "sweep-040m010-050m005.fits\t\t    sweep-240p000-250p005.fits\n",
      "sweep-040m015-050m010.fits\t\t    sweep-240p005-250p010.fits\n",
      "sweep-040m020-050m015.fits\t\t    sweep-240p010-250p015.fits\n",
      "sweep-040m025-050m020.fits\t\t    sweep-240p015-250p020.fits\n",
      "sweep-040m030-050m025.fits\t\t    sweep-240p020-250p025.fits\n",
      "sweep-040m035-050m030.fits\t\t    sweep-240p025-250p030.fits\n",
      "sweep-040m040-050m035.fits\t\t    sweep-240p030-250p035.fits\n",
      "sweep-040m045-050m040.fits\t\t    sweep-250m005-260p000.fits\n",
      "sweep-040m050-050m045.fits\t\t    sweep-250p000-260p005.fits\n",
      "sweep-040m055-050m050.fits\t\t    sweep-250p005-260p010.fits\n",
      "sweep-040m060-050m055.fits\t\t    sweep-250p010-260p015.fits\n",
      "sweep-040m065-050m060.fits\t\t    sweep-250p015-260p020.fits\n",
      "sweep-040m070-050m065.fits\t\t    sweep-250p020-260p025.fits\n",
      "sweep-040p000-050p005.fits\t\t    sweep-250p025-260p030.fits\n",
      "sweep-040p005-050p010.fits\t\t    sweep-250p030-260p035.fits\n",
      "sweep-040p010-050p015.fits\t\t    sweep-250p035-260p040.fits\n",
      "sweep-040p015-050p020.fits\t\t    sweep-260p005-270p010.fits\n",
      "sweep-040p020-050p025.fits\t\t    sweep-260p010-270p015.fits\n",
      "sweep-040p025-050p030.fits\t\t    sweep-260p015-270p020.fits\n",
      "sweep-050m005-060p000.fits\t\t    sweep-260p020-270p025.fits\n",
      "sweep-050m010-060m005.fits\t\t    sweep-260p025-270p030.fits\n",
      "sweep-050m015-060m010.fits\t\t    sweep-260p030-270p035.fits\n",
      "sweep-050m020-060m015.fits\t\t    sweep-270p010-280p015.fits\n",
      "sweep-050m025-060m020.fits\t\t    sweep-270p015-280p020.fits\n",
      "sweep-050m030-060m025.fits\t\t    sweep-270p020-280p025.fits\n",
      "sweep-050m035-060m030.fits\t\t    sweep-270p025-280p030.fits\n",
      "sweep-050m040-060m035.fits\t\t    sweep-270p030-280p035.fits\n",
      "sweep-050m045-060m040.fits\t\t    sweep-290m050-300m045.fits\n",
      "sweep-050m050-060m045.fits\t\t    sweep-290m055-300m050.fits\n",
      "sweep-050m055-060m050.fits\t\t    sweep-290m060-300m055.fits\n",
      "sweep-050m060-060m055.fits\t\t    sweep-300m005-310p000.fits\n",
      "sweep-050m065-060m060.fits\t\t    sweep-300m010-310m005.fits\n",
      "sweep-050m070-060m065.fits\t\t    sweep-300m015-310m010.fits\n",
      "sweep-050p000-060p005.fits\t\t    sweep-300m040-310m035.fits\n",
      "sweep-060m005-070p000.fits\t\t    sweep-300m045-310m040.fits\n",
      "sweep-060m010-070m005.fits\t\t    sweep-300m050-310m045.fits\n",
      "sweep-060m015-070m010.fits\t\t    sweep-300m055-310m050.fits\n",
      "sweep-060m020-070m015.fits\t\t    sweep-300m060-310m055.fits\n",
      "sweep-060m025-070m020.fits\t\t    sweep-300m065-310m060.fits\n",
      "sweep-060m030-070m025.fits\t\t    sweep-300m070-310m065.fits\n",
      "sweep-060m035-070m030.fits\t\t    sweep-300p000-310p005.fits\n",
      "sweep-060m040-070m035.fits\t\t    sweep-300p005-310p010.fits\n",
      "sweep-060m045-070m040.fits\t\t    sweep-300p010-310p015.fits\n",
      "sweep-060m050-070m045.fits\t\t    sweep-310m005-320p000.fits\n",
      "sweep-060m055-070m050.fits\t\t    sweep-310m010-320m005.fits\n",
      "sweep-060m060-070m055.fits\t\t    sweep-310m015-320m010.fits\n",
      "sweep-060m065-070m060.fits\t\t    sweep-310m020-320m015.fits\n",
      "sweep-060m070-070m065.fits\t\t    sweep-310m040-320m035.fits\n",
      "sweep-060p000-070p005.fits\t\t    sweep-310m045-320m040.fits\n",
      "sweep-070m005-080p000.fits\t\t    sweep-310m050-320m045.fits\n",
      "sweep-070m010-080m005.fits\t\t    sweep-310m055-320m050.fits\n",
      "sweep-070m015-080m010.fits\t\t    sweep-310m060-320m055.fits\n",
      "sweep-070m020-080m015.fits\t\t    sweep-310m065-320m060.fits\n",
      "sweep-070m025-080m020.fits\t\t    sweep-310m070-320m065.fits\n",
      "sweep-070m030-080m025.fits\t\t    sweep-310p000-320p005.fits\n",
      "sweep-070m035-080m030.fits\t\t    sweep-310p005-320p010.fits\n",
      "sweep-070m040-080m035.fits\t\t    sweep-310p010-320p015.fits\n",
      "sweep-070m045-080m040.fits\t\t    sweep-310p015-320p020.fits\n",
      "sweep-070m050-080m045.fits\t\t    sweep-310p020-320p025.fits\n",
      "sweep-070m055-080m050.fits\t\t    sweep-320m005-330p000.fits\n",
      "sweep-070m060-080m055.fits\t\t    sweep-320m010-330m005.fits\n",
      "sweep-070m065-080m060.fits\t\t    sweep-320m015-330m010.fits\n",
      "sweep-070m070-080m065.fits\t\t    sweep-320m020-330m015.fits\n",
      "sweep-070p000-080p005.fits\t\t    sweep-320m040-330m035.fits\n",
      "sweep-080m020-090m015.fits\t\t    sweep-320m045-330m040.fits\n",
      "sweep-080m025-090m020.fits\t\t    sweep-320m050-330m045.fits\n",
      "sweep-080m030-090m025.fits\t\t    sweep-320m055-330m050.fits\n",
      "sweep-080m035-090m030.fits\t\t    sweep-320m060-330m055.fits\n",
      "sweep-080m040-090m035.fits\t\t    sweep-320m065-330m060.fits\n",
      "sweep-080m045-090m040.fits\t\t    sweep-320m070-330m065.fits\n",
      "sweep-080m050-090m045.fits\t\t    sweep-320p000-330p005.fits\n",
      "sweep-080m055-090m050.fits\t\t    sweep-320p005-330p010.fits\n",
      "sweep-080m060-090m055.fits\t\t    sweep-320p010-330p015.fits\n",
      "sweep-080m065-090m060.fits\t\t    sweep-320p015-330p020.fits\n",
      "sweep-090m025-100m020.fits\t\t    sweep-320p020-330p025.fits\n",
      "sweep-090m030-100m025.fits\t\t    sweep-320p025-330p030.fits\n",
      "sweep-090m035-100m030.fits\t\t    sweep-320p030-330p035.fits\n",
      "sweep-090m040-100m035.fits\t\t    sweep-330m005-340p000.fits\n",
      "sweep-090m045-100m040.fits\t\t    sweep-330m010-340m005.fits\n",
      "sweep-090m050-100m045.fits\t\t    sweep-330m015-340m010.fits\n",
      "sweep-090m055-100m050.fits\t\t    sweep-330m020-340m015.fits\n",
      "sweep-090m060-100m055.fits\t\t    sweep-330m040-340m035.fits\n",
      "sweep-090m065-100m060.fits\t\t    sweep-330m045-340m040.fits\n",
      "sweep-100m055-110m050.fits\t\t    sweep-330m050-340m045.fits\n",
      "sweep-100m060-110m055.fits\t\t    sweep-330m055-340m050.fits\n",
      "sweep-100m065-110m060.fits\t\t    sweep-330m060-340m055.fits\n",
      "sweep-100p015-110p020.fits\t\t    sweep-330m065-340m060.fits\n",
      "sweep-100p020-110p025.fits\t\t    sweep-330m070-340m065.fits\n",
      "sweep-100p025-110p030.fits\t\t    sweep-330p000-340p005.fits\n",
      "sweep-100p030-110p035.fits\t\t    sweep-330p005-340p010.fits\n",
      "sweep-100p035-110p040.fits\t\t    sweep-330p010-340p015.fits\n",
      "sweep-110m005-120p000.fits\t\t    sweep-330p015-340p020.fits\n",
      "sweep-110p000-120p005.fits\t\t    sweep-330p020-340p025.fits\n",
      "sweep-110p005-120p010.fits\t\t    sweep-330p025-340p030.fits\n",
      "sweep-110p010-120p015.fits\t\t    sweep-330p030-340p035.fits\n",
      "sweep-110p015-120p020.fits\t\t    sweep-340m005-350p000.fits\n",
      "sweep-110p020-120p025.fits\t\t    sweep-340m010-350m005.fits\n",
      "sweep-110p025-120p030.fits\t\t    sweep-340m015-350m010.fits\n",
      "sweep-110p030-120p035.fits\t\t    sweep-340m020-350m015.fits\n",
      "sweep-120m005-130p000.fits\t\t    sweep-340m040-350m035.fits\n",
      "sweep-120m010-130m005.fits\t\t    sweep-340m045-350m040.fits\n",
      "sweep-120p000-130p005.fits\t\t    sweep-340m050-350m045.fits\n",
      "sweep-120p005-130p010.fits\t\t    sweep-340m055-350m050.fits\n",
      "sweep-120p010-130p015.fits\t\t    sweep-340m060-350m055.fits\n",
      "sweep-120p015-130p020.fits\t\t    sweep-340m065-350m060.fits\n",
      "sweep-120p020-130p025.fits\t\t    sweep-340m070-350m065.fits\n",
      "sweep-120p025-130p030.fits\t\t    sweep-340p000-350p005.fits\n",
      "sweep-120p030-130p035.fits\t\t    sweep-340p005-350p010.fits\n",
      "sweep-120p035-130p040.fits\t\t    sweep-340p010-350p015.fits\n",
      "sweep-130m005-140p000.fits\t\t    sweep-340p015-350p020.fits\n",
      "sweep-130m010-140m005.fits\t\t    sweep-340p020-350p025.fits\n",
      "sweep-130p000-140p005.fits\t\t    sweep-340p025-350p030.fits\n",
      "sweep-130p005-140p010.fits\t\t    sweep-340p030-350p035.fits\n",
      "sweep-130p010-140p015.fits\t\t    sweep-350m005-360p000.fits\n",
      "sweep-130p015-140p020.fits\t\t    sweep-350m010-360m005.fits\n",
      "sweep-130p020-140p025.fits\t\t    sweep-350m015-360m010.fits\n",
      "sweep-130p025-140p030.fits\t\t    sweep-350m020-360m015.fits\n",
      "sweep-130p030-140p035.fits\t\t    sweep-350m035-360m030.fits\n",
      "sweep-130p035-140p040.fits\t\t    sweep-350m040-360m035.fits\n",
      "sweep-140m005-150p000.fits\t\t    sweep-350m045-360m040.fits\n",
      "sweep-140m010-150m005.fits\t\t    sweep-350m050-360m045.fits\n",
      "sweep-140p000-150p005.fits\t\t    sweep-350m055-360m050.fits\n",
      "sweep-140p005-150p010.fits\t\t    sweep-350m060-360m055.fits\n",
      "sweep-140p010-150p015.fits\t\t    sweep-350m065-360m060.fits\n",
      "sweep-140p015-150p020.fits\t\t    sweep-350m070-360m065.fits\n",
      "sweep-140p020-150p025.fits\t\t    sweep-350p000-360p005.fits\n",
      "sweep-140p025-150p030.fits\t\t    sweep-350p005-360p010.fits\n",
      "sweep-140p030-150p035.fits\t\t    sweep-350p010-360p015.fits\n",
      "sweep-150m005-160p000.fits\t\t    sweep-350p015-360p020.fits\n",
      "sweep-150m010-160m005.fits\t\t    sweep-350p020-360p025.fits\n",
      "sweep-150m015-160m010.fits\t\t    sweep-350p025-360p030.fits\n",
      "sweep-150p000-160p005.fits\t\t    sweep-350p030-360p035.fits\n",
      "sweep-150p005-160p010.fits\t\t    sweep-350p035-360p040.fits\n"
     ]
    }
   ],
   "source": [
    "!ls /global/project/projectdirs/cosmo/data/legacysurvey/dr8/south/sweep/8.0/"
   ]
  },
  {
   "cell_type": "code",
   "execution_count": null,
   "metadata": {},
   "outputs": [],
   "source": []
  },
  {
   "cell_type": "code",
   "execution_count": null,
   "metadata": {},
   "outputs": [],
   "source": []
  }
 ],
 "metadata": {
  "kernelspec": {
   "display_name": "DESI 19.2",
   "language": "python",
   "name": "desi-19.2"
  },
  "language_info": {
   "codemirror_mode": {
    "name": "ipython",
    "version": 3
   },
   "file_extension": ".py",
   "mimetype": "text/x-python",
   "name": "python",
   "nbconvert_exporter": "python",
   "pygments_lexer": "ipython3",
   "version": "3.6.6"
  }
 },
 "nbformat": 4,
 "nbformat_minor": 4
}
