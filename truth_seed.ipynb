{
 "cells": [
  {
   "cell_type": "code",
   "execution_count": 9,
   "metadata": {},
   "outputs": [
    {
     "name": "stdout",
     "output_type": "stream",
     "text": [
      "/project/projectdirs/desi/target/analysis/truth/dr3.1/trimmed/cesam_vvds_spF22_WIDE_Full-trim.fits\n"
     ]
    }
   ],
   "source": [
    "!ls /project/projectdirs/desi/target/analysis/truth/dr3.1/trimmed/cesam_vvds_spF22_WIDE_Full-trim.fits"
   ]
  },
  {
   "cell_type": "code",
   "execution_count": 27,
   "metadata": {},
   "outputs": [
    {
     "name": "stdout",
     "output_type": "stream",
     "text": [
      "/project/projectdirs/desi/target/analysis/truth/dr3.1/allmatches/decals-dr3.1-deep2-field2.fits\n",
      "/project/projectdirs/desi/target/analysis/truth/dr3.1/allmatches/decals-dr3.1-deep2-field3.fits\n",
      "/project/projectdirs/desi/target/analysis/truth/dr3.1/allmatches/decals-dr3.1-deep2-field4.fits\n",
      "/project/projectdirs/desi/target/analysis/truth/dr3.1/allmatches/deep2-field1.fits.gz\n",
      "/project/projectdirs/desi/target/analysis/truth/dr3.1/allmatches/deep2-field2.fits.gz\n",
      "/project/projectdirs/desi/target/analysis/truth/dr3.1/allmatches/deep2-field3.fits.gz\n",
      "/project/projectdirs/desi/target/analysis/truth/dr3.1/allmatches/deep2-field4.fits.gz\n"
     ]
    }
   ],
   "source": [
    "!ls /project/projectdirs/desi/target/analysis/truth/dr3.1/allmatches/*deep2*"
   ]
  },
  {
   "cell_type": "code",
   "execution_count": 86,
   "metadata": {},
   "outputs": [
    {
     "data": {
      "text/plain": [
       "ColDefs(\n",
       "    name = 'FIELD'; format = 'I'\n",
       "    name = 'SUBFIELD'; format = 'I'\n",
       "    name = 'OBJNO'; format = 'J'\n",
       "    name = 'RA'; format = 'D'\n",
       "    name = 'DEC'; format = 'D'\n",
       "    name = 'B'; format = 'E'\n",
       "    name = 'R'; format = 'E'\n",
       "    name = 'I'; format = 'E'\n",
       "    name = 'BERR'; format = 'E'\n",
       "    name = 'RERR'; format = 'E'\n",
       "    name = 'IERR'; format = 'E'\n",
       "    name = 'PGAL'; format = 'E'\n",
       "    name = 'RG'; format = 'E'\n",
       "    name = 'BADFLAG'; format = 'B'\n",
       "    name = 'ZHELIO'; format = 'E'\n",
       "    name = 'ZHELIO_ERR'; format = 'E'\n",
       "    name = 'ZQUALITY'; format = 'I'\n",
       "    name = 'SFD_EBV'; format = 'E'\n",
       "    name = 'SOURCE'; format = '12A'\n",
       "    name = 'MASK_WEIGHT'; format = 'E'\n",
       "    name = 'OBJ_WEIGHT'; format = 'E'\n",
       "    name = 'SELECT_WEIGHT'; format = 'E'\n",
       "    name = 'PHOT_WEIGHT'; format = 'E'\n",
       "    name = 'TARG_WEIGHT'; format = 'E'\n",
       "    name = 'ZSUCCESS_WEIGHT'; format = 'E'\n",
       "    name = 'FINAL_WEIGHT'; format = 'E'\n",
       "    name = 'KRON_RADIUS_HI'; format = 'E'\n",
       "    name = 'KRON_RADIUS_LOW'; format = 'E'\n",
       "    name = 'FLUX_RADIUS_HI'; format = 'E'\n",
       "    name = 'FLUX_RADIUS_LOW'; format = 'E'\n",
       "    name = 'FLAG_GALFIT_HI'; format = 'J'\n",
       "    name = 'FLAG_GALFIT_LOW'; format = 'J'\n",
       "    name = 'MAG_GALFIT_HI'; format = 'E'\n",
       "    name = 'MAG_GALFIT_LOW'; format = 'E'\n",
       "    name = 'RE_GALFIT_HI'; format = 'E'\n",
       "    name = 'RE_GALFIT_LOW'; format = 'E'\n",
       "    name = 'N_GALFIT_HI'; format = 'E'\n",
       "    name = 'N_GALFIT_LOW'; format = 'E'\n",
       "    name = 'BA_GALFIT_HI'; format = 'E'\n",
       "    name = 'BA_GALFIT_LOW'; format = 'E'\n",
       "    name = 'PA_GALFIT_HI'; format = 'E'\n",
       "    name = 'PA_GALFIT_LOW'; format = 'E'\n",
       "    name = 'SKY_GALFIT_HI'; format = 'E'\n",
       "    name = 'SKY_GALFIT_LOW'; format = 'E'\n",
       "    name = 'MAGERR_GALFIT_HI'; format = 'E'\n",
       "    name = 'MAGERR_GALFIT_LOW'; format = 'E'\n",
       "    name = 'REERR_GALFIT_HI'; format = 'E'\n",
       "    name = 'REERR_GALFIT_LOW'; format = 'E'\n",
       "    name = 'NERR_GALFIT_HI'; format = 'E'\n",
       "    name = 'NERR_GALFIT_LOW'; format = 'E'\n",
       "    name = 'BAERR_GALFIT_HI'; format = 'E'\n",
       "    name = 'BAERR_GALFIT_LOW'; format = 'E'\n",
       "    name = 'PAERR_GALFIT_HI'; format = 'E'\n",
       "    name = 'PAERR_GALFIT_LOW'; format = 'E'\n",
       "    name = 'VIS_MORPH'; format = 'A'\n",
       "    name = 'SIGMA_KMS'; format = 'E'\n",
       "    name = 'OII_3726'; format = 'E'\n",
       "    name = 'OII_3726_ERR'; format = 'E'\n",
       "    name = 'OII_3729'; format = 'E'\n",
       "    name = 'OII_3729_ERR'; format = 'E'\n",
       "    name = 'OII_3727'; format = 'E'\n",
       "    name = 'OII_3727_ERR'; format = 'E'\n",
       "    name = 'OII_3727_EW'; format = 'E'\n",
       "    name = 'OII_3727_EW_ERR'; format = 'E'\n",
       "    name = 'CFHTLS_U'; format = 'E'\n",
       "    name = 'CFHTLS_G'; format = 'E'\n",
       "    name = 'CFHTLS_R'; format = 'E'\n",
       "    name = 'CFHTLS_I'; format = 'E'\n",
       "    name = 'CFHTLS_Z'; format = 'E'\n",
       "    name = 'CFHTLS_UERR'; format = 'E'\n",
       "    name = 'CFHTLS_GERR'; format = 'E'\n",
       "    name = 'CFHTLS_RERR'; format = 'E'\n",
       "    name = 'CFHTLS_IERR'; format = 'E'\n",
       "    name = 'CFHTLS_ZERR'; format = 'E'\n",
       "    name = 'WISE_FLUX'; format = '4E'\n",
       "    name = 'WISE_FLUX_IVAR'; format = '4E'\n",
       "    name = 'MAGGIES'; format = '12E'\n",
       "    name = 'IVARMAGGIES'; format = '12E'\n",
       ")"
      ]
     },
     "execution_count": 86,
     "metadata": {},
     "output_type": "execute_result"
    }
   ],
   "source": [
    "dat2.columns"
   ]
  },
  {
   "cell_type": "code",
   "execution_count": 94,
   "metadata": {},
   "outputs": [
    {
     "data": {
      "text/plain": [
       "[<matplotlib.lines.Line2D at 0x2aaae6b3f4a8>]"
      ]
     },
     "execution_count": 94,
     "metadata": {},
     "output_type": "execute_result"
    },
    {
     "data": {
      "image/png": "[encoded data removed]",
      "text/plain": [
       "<matplotlib.figure.Figure at 0x2aaae6aeb4e0>"
      ]
     },
     "metadata": {},
     "output_type": "display_data"
    }
   ],
   "source": [
    "import astropy.io.fits as fits\n",
    "import matplotlib.pyplot as plt\n",
    "import numpy as np\n",
    "#deep2-dr3\n",
    "#dat = fits.getdata('/global/cscratch1/sd/huikong/obiwan_Aug/repos_for_docker/obiwan_out/subset/sgc_elg_like.fits')\n",
    "dat1 = fits.getdata('/project/projectdirs/desi/target/analysis/truth/dr3.1/allmatches/decals-dr3.1-deep2-field3.fits')\n",
    "dat2 = fits.getdata('/project/projectdirs/desi/target/analysis/truth/dr3.1/allmatches/decals-dr3.1-deep2-field4.fits')\n",
    "dat = np.hstack((dat1,dat2))\n",
    "plt.subplot(2,1,1)\n",
    "sel = (dat['RA']>50)\n",
    "plt.plot(dat2['RA'],dat2['DEC'],'r,')\n",
    "#deep2\n",
    "deep2 = fits.getdata('/global/cscratch1/sd/huikong/obiwan_Aug/repos_for_docker/obiwan_out/DEEP2/zcat.deep2.dr4.fits')\n",
    "plt.subplot(2,1,2)\n",
    "sel = (deep2['dec']>-1)&(deep2['dec']<1)&(deep2['ra']>300)\n",
    "plt.plot(deep2['ra'][sel],deep2['dec'][sel],'r,')"
   ]
  },
  {
   "cell_type": "code",
   "execution_count": 95,
   "metadata": {
    "collapsed": true,
    "jupyter": {
     "outputs_hidden": true
    }
   },
   "outputs": [
    {
     "name": "stderr",
     "output_type": "stream",
     "text": [
      "/global/common/software/desi/cori/desiconda/20180709-1.2.6-spec/conda/lib/python3.6/site-packages/ipykernel/__main__.py:15: RuntimeWarning: divide by zero encountered in true_divide\n",
      "/global/common/software/desi/cori/desiconda/20180709-1.2.6-spec/conda/lib/python3.6/site-packages/ipykernel/__main__.py:15: RuntimeWarning: invalid value encountered in true_divide\n",
      "/global/common/software/desi/cori/desiconda/20180709-1.2.6-spec/conda/lib/python3.6/site-packages/ipykernel/__main__.py:15: RuntimeWarning: divide by zero encountered in log10\n",
      "/global/common/software/desi/cori/desiconda/20180709-1.2.6-spec/conda/lib/python3.6/site-packages/ipykernel/__main__.py:15: RuntimeWarning: invalid value encountered in log10\n",
      "/global/common/software/desi/cori/desiconda/20180709-1.2.6-spec/conda/lib/python3.6/site-packages/ipykernel/__main__.py:16: RuntimeWarning: divide by zero encountered in true_divide\n",
      "/global/common/software/desi/cori/desiconda/20180709-1.2.6-spec/conda/lib/python3.6/site-packages/ipykernel/__main__.py:16: RuntimeWarning: invalid value encountered in true_divide\n",
      "/global/common/software/desi/cori/desiconda/20180709-1.2.6-spec/conda/lib/python3.6/site-packages/ipykernel/__main__.py:16: RuntimeWarning: divide by zero encountered in log10\n",
      "/global/common/software/desi/cori/desiconda/20180709-1.2.6-spec/conda/lib/python3.6/site-packages/ipykernel/__main__.py:16: RuntimeWarning: invalid value encountered in log10\n",
      "/global/common/software/desi/cori/desiconda/20180709-1.2.6-spec/conda/lib/python3.6/site-packages/ipykernel/__main__.py:17: RuntimeWarning: divide by zero encountered in true_divide\n",
      "/global/common/software/desi/cori/desiconda/20180709-1.2.6-spec/conda/lib/python3.6/site-packages/ipykernel/__main__.py:17: RuntimeWarning: invalid value encountered in true_divide\n",
      "/global/common/software/desi/cori/desiconda/20180709-1.2.6-spec/conda/lib/python3.6/site-packages/ipykernel/__main__.py:17: RuntimeWarning: divide by zero encountered in log10\n",
      "/global/common/software/desi/cori/desiconda/20180709-1.2.6-spec/conda/lib/python3.6/site-packages/ipykernel/__main__.py:17: RuntimeWarning: invalid value encountered in log10\n",
      "/global/common/software/desi/cori/desiconda/20180709-1.2.6-spec/conda/lib/python3.6/site-packages/ipykernel/__main__.py:18: RuntimeWarning: invalid value encountered in subtract\n",
      "/global/common/software/desi/cori/desiconda/20180709-1.2.6-spec/conda/lib/python3.6/site-packages/ipykernel/__main__.py:20: RuntimeWarning: invalid value encountered in greater\n",
      "/global/common/software/desi/cori/desiconda/20180709-1.2.6-spec/conda/lib/python3.6/site-packages/ipykernel/__main__.py:20: RuntimeWarning: invalid value encountered in less\n",
      "/global/common/software/desi/cori/desiconda/20180709-1.2.6-spec/conda/lib/python3.6/site-packages/ipykernel/__main__.py:21: RuntimeWarning: invalid value encountered in greater\n",
      "/global/common/software/desi/cori/desiconda/20180709-1.2.6-spec/conda/lib/python3.6/site-packages/ipykernel/__main__.py:21: RuntimeWarning: invalid value encountered in less\n"
     ]
    }
   ],
   "source": [
    "from astropy.table import Table\n",
    "def ELG_selection_for_dr3_like(tractor,region='sgc'):\n",
    "    import numpy as n\n",
    "    value_g=tractor['DECAM_DEPTH'][:,1]\n",
    "    value_r=tractor['DECAM_DEPTH'][:,2]\n",
    "    value_z=tractor['DECAM_DEPTH'][:,4]\n",
    "    gL = 62.79716079 \n",
    "    rL = 30.05661087\n",
    "    zL_ngc = 11.0\n",
    "    zL_sgc = 12.75  \n",
    "    depth_selection_ngc = (value_g > gL) & (value_r > rL) & (value_z > zL_ngc)\n",
    "    depth_selection_sgc = (value_g > gL) & (value_r > rL) & (value_z > zL_sgc)\n",
    "    \n",
    "    # the color color selection\n",
    "    g     = 22.5 - 2.5 * n.log10(tractor['DECAM_FLUX'][:,1] / tractor['DECAM_MW_TRANSMISSION'][:,1])\n",
    "    r_mag = 22.5 - 2.5 * n.log10(tractor['DECAM_FLUX'][:,2] / tractor['DECAM_MW_TRANSMISSION'][:,2])\n",
    "    z_mag = 22.5 - 2.5 * n.log10(tractor['DECAM_FLUX'][:,4] / tractor['DECAM_MW_TRANSMISSION'][:,4])\n",
    "    gr = g - r_mag\n",
    "    rz = r_mag - z_mag\n",
    "    color_sgc = (g>21.625)&(g<23.025)&(-0.068*rz+0.257<gr)&(gr< 0.112*rz+0.973) &(0.218*gr+0.371<rz)&(rz<-0.555*gr+2.101)\n",
    "    color_ngc = (g>21.625)&(g<23.1)  &(-0.068*rz+0.257<gr)&(gr< 0.112*rz+0.973) &(0.637*gr+0.199<rz)&(rz<-0.555*gr+2.101)\n",
    "    # final selection boolean array :\n",
    "    selection_sgc =(color_sgc)&(depth_selection_sgc)\n",
    "    selection_ngc =(color_ngc)&(depth_selection_ngc)\n",
    "    if region == 'sgc':\n",
    "        if len(selection_sgc.nonzero()[0])>0:\n",
    "            flag = True\n",
    "            return flag, Table(tractor[selection_sgc.astype(bool)])\n",
    "        else:\n",
    "            flag = False\n",
    "            return flag, Table(tractor[selection_sgc.astype(bool)])\n",
    "    if region == 'ngc':\n",
    "            if len(selection_ngc.nonzero()[0])>0 :\n",
    "                flag = True\n",
    "                return flag, Table(tractor[selection_ngc.astype(bool)])\n",
    "            else:\n",
    "                flag = False\n",
    "                return flag, Table(tractor[selection_ngc.astype(bool)]) \n",
    "flag,dr3_elg_like = ELG_selection_for_dr3_like(dat)            "
   ]
  },
  {
   "cell_type": "code",
   "execution_count": 96,
   "metadata": {},
   "outputs": [
    {
     "data": {
      "text/plain": [
       "852"
      ]
     },
     "execution_count": 96,
     "metadata": {},
     "output_type": "execute_result"
    }
   ],
   "source": [
    "#sel = (dat['ra']>351.)&(dat['ra']<354)&(dat['dec']>-0.2)&(dat['dec']<0.5)\n",
    "len(dr3_elg_like)"
   ]
  },
  {
   "cell_type": "code",
   "execution_count": null,
   "metadata": {},
   "outputs": [],
   "source": []
  },
  {
   "cell_type": "code",
   "execution_count": 64,
   "metadata": {},
   "outputs": [],
   "source": [
    "dr3_vvds_matched = fits.getdata('/global/cscratch1/sd/huikong/obiwan_Aug/repos_for_docker/obiwan_out/VVDS/dr3_vvds_matched.fits')\n"
   ]
  },
  {
   "cell_type": "code",
   "execution_count": 23,
   "metadata": {},
   "outputs": [
    {
     "data": {
      "text/plain": [
       "[<matplotlib.lines.Line2D at 0x2aaae509d278>]"
      ]
     },
     "execution_count": 23,
     "metadata": {},
     "output_type": "execute_result"
    },
    {
     "data": {
      "image/png": "[encoded data removed]",
      "text/plain": [
       "<matplotlib.figure.Figure at 0x2aaae4e1ecc0>"
      ]
     },
     "metadata": {},
     "output_type": "display_data"
    }
   ],
   "source": [
    "plt.plot(dr3_vvds_matched['ra'],dr3_vvds_matched['dec'],'r,')"
   ]
  },
  {
   "cell_type": "code",
   "execution_count": 60,
   "metadata": {},
   "outputs": [
    {
     "data": {
      "text/plain": [
       "ColDefs(\n",
       "    name = 'BRICKID'; format = 'J'\n",
       "    name = 'BRICKNAME'; format = '8A'\n",
       "    name = 'OBJID'; format = 'J'\n",
       "    name = 'TYPE'; format = '4A'\n",
       "    name = 'RA'; format = 'D'\n",
       "    name = 'RA_IVAR'; format = 'E'\n",
       "    name = 'DEC'; format = 'D'\n",
       "    name = 'DEC_IVAR'; format = 'E'\n",
       "    name = 'DECAM_FLUX'; format = '6E'\n",
       "    name = 'DECAM_FLUX_IVAR'; format = '6E'\n",
       "    name = 'DECAM_MW_TRANSMISSION'; format = '6E'\n",
       "    name = 'DECAM_NOBS'; format = '6B'\n",
       "    name = 'DECAM_RCHI2'; format = '6E'\n",
       "    name = 'DECAM_PSFSIZE'; format = '6E'\n",
       "    name = 'DECAM_FRACFLUX'; format = '6E'\n",
       "    name = 'DECAM_FRACMASKED'; format = '6E'\n",
       "    name = 'DECAM_FRACIN'; format = '6E'\n",
       "    name = 'DECAM_DEPTH'; format = '6E'\n",
       "    name = 'DECAM_GALDEPTH'; format = '6E'\n",
       "    name = 'OUT_OF_BOUNDS'; format = 'L'\n",
       "    name = 'DECAM_ANYMASK'; format = '6I'\n",
       "    name = 'DECAM_ALLMASK'; format = '6I'\n",
       "    name = 'WISE_FLUX'; format = '4E'\n",
       "    name = 'WISE_FLUX_IVAR'; format = '4E'\n",
       "    name = 'WISE_MW_TRANSMISSION'; format = '4E'\n",
       "    name = 'WISE_NOBS'; format = '4I'\n",
       "    name = 'WISE_FRACFLUX'; format = '4E'\n",
       "    name = 'WISE_RCHI2'; format = '4E'\n",
       "    name = 'DCHISQ'; format = '5E'\n",
       "    name = 'FRACDEV'; format = 'E'\n",
       "    name = 'TYCHO2INBLOB'; format = 'L'\n",
       "    name = 'SHAPEDEV_R'; format = 'E'\n",
       "    name = 'SHAPEDEV_R_IVAR'; format = 'E'\n",
       "    name = 'SHAPEDEV_E1'; format = 'E'\n",
       "    name = 'SHAPEDEV_E1_IVAR'; format = 'E'\n",
       "    name = 'SHAPEDEV_E2'; format = 'E'\n",
       "    name = 'SHAPEDEV_E2_IVAR'; format = 'E'\n",
       "    name = 'SHAPEEXP_R'; format = 'E'\n",
       "    name = 'SHAPEEXP_R_IVAR'; format = 'E'\n",
       "    name = 'SHAPEEXP_E1'; format = 'E'\n",
       "    name = 'SHAPEEXP_E1_IVAR'; format = 'E'\n",
       "    name = 'SHAPEEXP_E2'; format = 'E'\n",
       "    name = 'SHAPEEXP_E2_IVAR'; format = 'E'\n",
       "    name = 'EBV'; format = 'E'\n",
       ")"
      ]
     },
     "execution_count": 60,
     "metadata": {},
     "output_type": "execute_result"
    }
   ],
   "source": [
    "dr3_vvds_matched.columns"
   ]
  },
  {
   "cell_type": "code",
   "execution_count": null,
   "metadata": {},
   "outputs": [],
   "source": []
  }
 ],
 "metadata": {
  "kernelspec": {
   "display_name": "DESI 19.2",
   "language": "python",
   "name": "desi-19.2"
  },
  "language_info": {
   "codemirror_mode": {
    "name": "ipython",
    "version": 3
   },
   "file_extension": ".py",
   "mimetype": "text/x-python",
   "name": "python",
   "nbconvert_exporter": "python",
   "pygments_lexer": "ipython3",
   "version": "3.6.6"
  }
 },
 "nbformat": 4,
 "nbformat_minor": 4
}
