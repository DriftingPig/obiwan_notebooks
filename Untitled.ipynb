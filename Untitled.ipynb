{
 "cells": [
  {
   "cell_type": "code",
   "execution_count": 1,
   "metadata": {},
   "outputs": [
    {
     "name": "stdout",
     "output_type": "stream",
     "text": [
      "Populating the interactive namespace from numpy and matplotlib\n"
     ]
    }
   ],
   "source": [
    "%pylab inline\n",
    "import numpy as np\n",
    "import astropy.io.fits as fits\n",
    "import matplotlib.pyplot as plt\n",
    "from astropy.coordinates import SkyCoord\n",
    "from astropy import units as u"
   ]
  },
  {
   "cell_type": "code",
   "execution_count": null,
   "metadata": {},
   "outputs": [],
   "source": [
    "def get_mean(rs_num, band = 'g', radius = 20):\n",
    "    #import pdb;pdb.set_trace()\n",
    "    rs_type = 'more_rs'+str(rs_num)\n",
    "    fn = '/global/cscratch1/sd/huikong/obiwan_Aug/repos_for_docker/obiwan_out/'+name_for_run+'/coadd/'+brickname[:3]+'/'+brickname+'/'+rs_type+'/legacysurvey-'+brickname+'-image-'+band+'.fits.fz'\n",
    "    coadd = fits.getdata(fn)\n",
    "\n",
    "    fn = '/global/cscratch1/sd/huikong/obiwan_Aug/repos_for_docker/obiwan_out/'+\\\n",
    "            name_for_run+'/tractor/'+brickname[:3]+\\\n",
    "            '/'+brickname+'/'+rs_type+'/tractor-'+brickname+'.fits'\n",
    "    tractor = fits.getdata(fn)\n",
    "\n",
    "    fn = '/global/cscratch1/sd/huikong/obiwan_Aug/repos_for_docker/obiwan_out/'+\\\n",
    "            name_for_run+'/coadd/'+brickname[:3]+\\\n",
    "            '/'+brickname+'/'+rs_type+'/legacysurvey-'+brickname+'-model-'+band+'.fits.fz'\n",
    "    model = fits.getdata(fn)\n",
    "\n",
    "    fn = '/global/cscratch1/sd/huikong/obiwan_Aug/repos_for_docker/obiwan_out/'+\\\n",
    "            name_for_run+'/obiwan/'+brickname[:3]+\\\n",
    "            '/'+brickname+'/'+rs_type+'/simcat-elg-'+brickname+'.fits'\n",
    "    sim = fits.getdata(fn)\n",
    "\n",
    "    fn = '/global/cscratch1/sd/huikong/obiwan_Aug/repos_for_docker/obiwan_out/'+\\\n",
    "            name_for_run+'/coadd/'+brickname[:3]+\\\n",
    "            '/'+brickname+'/'+rs_type+'/legacysurvey-'+brickname+'-sims-'+band+'.fits.fz'\n",
    "    sim_img = fits.getdata(fn)\n",
    "\n",
    "    c1 = SkyCoord(ra=tractor['ra']*u.degree, dec=tractor['dec']*u.degree)\n",
    "    c2 = SkyCoord(ra=sim['ra']*u.degree, dec=sim['dec']*u.degree)\n",
    "    idx, d2d, d3d = c1.match_to_catalog_sky(c2)\n",
    "    w = d2d.value <= 1./3600.\n",
    "    idx1 = np.where(w)[0]\n",
    "    idx[~w] = -1\n",
    "    idx2 = idx[idx>-1]\n",
    "    #import pdb;pdb.set_trace()\n",
    "    tractor_matched = tractor[idx1]\n",
    "    sim_matched = sim[idx2]\n",
    "    print(len(tractor_matched),len(sim_matched))\n",
    "    flux = tractor_matched['flux_'+band]\n",
    "    flux_sim = sim_matched[band+'flux']\n",
    "\n",
    "    tractor_bad=tractor_matched\n",
    "    bx = tractor_matched['bx']\n",
    "    by = tractor_matched['by']\n",
    "    flux_diff = sim_matched[band+'flux'] - tractor_matched['flux_'+band]\n",
    "\n",
    "    flux_sum = []\n",
    "    for i in range(len(flux_diff)):\n",
    "        x_cen = int(bx[i])\n",
    "        y_cen = int(by[i])\n",
    "        dat = coadd[y_cen-radius:y_cen+radius,x_cen-radius:x_cen+radius]-\\\n",
    "                sim_img[y_cen-radius:y_cen+radius,x_cen-radius:x_cen+radius]\n",
    "        weight = sim_img[y_cen-radius:y_cen+radius,x_cen-radius:x_cen+radius]\n",
    "        sums = ((dat.ravel()*weight.ravel())/(weight.ravel().sum())).sum()\n",
    "        flux_sum.append(sums)\n",
    "    flux_sum = np.array(flux_sum)\n",
    "    sel = (flux_diff>-1)&(flux_diff<1)&(flux_sum>-0.0007)&(flux_sum<0.0005)\n",
    "    from sklearn import linear_model\n",
    "    regr = linear_model.LinearRegression()\n",
    "    regr.fit(flux_sum[sel].reshape(-1,1), -flux_diff[sel].reshape(-1,1))\n",
    "    tot_mean = -flux_diff[sel].mean()\n",
    "    coeff = regr.coef_\n",
    "    intercept = regr.intercept_\n",
    "    lvl = -0.0007 + 0.00005*(rs_num-680)\n",
    "    print('Coefficients: \\n', regr.coef_)\n",
    "    print('intercept: \\n', regr.intercept_)\n",
    "    return tot_mean,coeff,intercept,coeff*lvl+intercept"
   ]
  },
  {
   "cell_type": "code",
   "execution_count": null,
   "metadata": {},
   "outputs": [],
   "source": [
    "get_mean(680)"
   ]
  },
  {
   "cell_type": "code",
   "execution_count": null,
   "metadata": {},
   "outputs": [],
   "source": []
  }
 ],
 "metadata": {
  "kernelspec": {
   "display_name": "DESI 19.2",
   "language": "python",
   "name": "desi-19.2"
  },
  "language_info": {
   "codemirror_mode": {
    "name": "ipython",
    "version": 3
   },
   "file_extension": ".py",
   "mimetype": "text/x-python",
   "name": "python",
   "nbconvert_exporter": "python",
   "pygments_lexer": "ipython3",
   "version": "3.6.6"
  }
 },
 "nbformat": 4,
 "nbformat_minor": 4
}
