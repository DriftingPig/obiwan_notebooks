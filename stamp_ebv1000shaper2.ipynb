{
 "cells": [
  {
   "cell_type": "code",
   "execution_count": 259,
   "metadata": {},
   "outputs": [],
   "source": [
    "topdir_obiwan_out='/global/cscratch1/sd/adematti/legacysim/dr9/'\n",
    "name_for_run='ebv1000shaper'\n",
    "rs_type='file0_rs0_skip0'\n",
    "region='north'\n",
    "band = 'z'\n",
    "idx=3"
   ]
  },
  {
   "cell_type": "code",
   "execution_count": 248,
   "metadata": {},
   "outputs": [
    {
     "name": "stdout",
     "output_type": "stream",
     "text": [
      "Populating the interactive namespace from numpy and matplotlib\n"
     ]
    }
   ],
   "source": [
    "%pylab inline\n",
    "import numpy as np\n",
    "import astropy.io.fits as fits\n",
    "import matplotlib.pyplot as plt\n",
    "from astropy.coordinates import SkyCoord\n",
    "from astropy import units as u\n",
    "import os"
   ]
  },
  {
   "cell_type": "code",
   "execution_count": 249,
   "metadata": {},
   "outputs": [],
   "source": [
    "summary_north = fits.getdata('/global/cscratch1/sd/adematti/legacysim/dr9/ebv1000shaper/north/file0_rs0_skip0/merged/matched_input.fits')\n",
    "summary_south = fits.getdata('/global/cscratch1/sd/adematti/legacysim/dr9/ebv1000shaper/north/file0_rs0_skip0/merged/matched_input.fits')"
   ]
  },
  {
   "cell_type": "code",
   "execution_count": 250,
   "metadata": {},
   "outputs": [
    {
     "name": "stdout",
     "output_type": "stream",
     "text": [
      "2593p612\n"
     ]
    }
   ],
   "source": [
    "if region is 'north':\n",
    "    summary=summary_north\n",
    "    sel = ~summary['matched'] \n",
    "    #sel = summary['matched'] \n",
    "    brickname = summary[sel]['input_brickname'][idx]\n",
    "else:\n",
    "    summary=summary_south\n",
    "    sel = ~summary['matched']\n",
    "    #sel = summary['matched'] \n",
    "    brickname = summary[sel]['input_brickname'][idx]\n",
    "    \n",
    "print(brickname)"
   ]
  },
  {
   "cell_type": "code",
   "execution_count": 251,
   "metadata": {},
   "outputs": [],
   "source": [
    "\n",
    "topdir = topdir_obiwan_out+\\\n",
    "name_for_run+'/'+region+'/'+rs_type\n",
    "\n",
    "fn = os.path.join(topdir,'coadd',brickname[:3],brickname,'legacysurvey-'+brickname+'-image-'+band+'.fits.fz')\n",
    "\n",
    "coadd = fits.getdata(fn)"
   ]
  },
  {
   "cell_type": "code",
   "execution_count": 252,
   "metadata": {},
   "outputs": [],
   "source": [
    "fn = os.path.join(topdir,'tractor',brickname[:3],'tractor-'+brickname+'.fits')\n",
    "\n",
    "tractor = fits.getdata(fn)"
   ]
  },
  {
   "cell_type": "code",
   "execution_count": 253,
   "metadata": {},
   "outputs": [],
   "source": [
    "fn = os.path.join(topdir,'coadd',brickname[:3],brickname,'legacysurvey-'+brickname+'-model-'+band+'.fits.fz')\n",
    "\n",
    "model = fits.getdata(fn)"
   ]
  },
  {
   "cell_type": "code",
   "execution_count": 254,
   "metadata": {},
   "outputs": [],
   "source": [
    "fn = os.path.join(topdir,'sim',brickname[:3],'injected-'+brickname+'.fits')\n",
    "sim = fits.getdata(fn)"
   ]
  },
  {
   "cell_type": "code",
   "execution_count": 255,
   "metadata": {},
   "outputs": [],
   "source": [
    "#sim image is missing\n",
    "#fn = os.path.join(topdir,'coadd',brickname[:3],brickname,'legacysurvey-'+brickname+'-sims-'+band+'.fits.fz')\n",
    "#sim_img = fits.getdata(fn)\n",
    "from PIL import Image\n",
    "fn = os.path.join(topdir,'coadd',brickname[:3],brickname,'legacysurvey-'+brickname+'-simscoadd.jpg')\n",
    "if band =='g':\n",
    "    sim_img = plt.imread(fn).transpose()[0].transpose()\n",
    "if band =='r':\n",
    "    sim_img = plt.imread(fn).transpose()[1].transpose()\n",
    "if band =='z':\n",
    "    sim_img = plt.imread(fn).transpose()[2].transpose()\n"
   ]
  },
  {
   "cell_type": "code",
   "execution_count": 256,
   "metadata": {},
   "outputs": [],
   "source": [
    "fn = '/global/project/projectdirs/cosmo/data/legacysurvey/dr9/'+region+'/coadd/'+\\\n",
    "brickname[:3]+'/'+brickname+'/legacysurvey-'+brickname+'-image-'+band+'.fits.fz'\n",
    "\n",
    "tractor_origin = fits.getdata(fn)"
   ]
  },
  {
   "cell_type": "code",
   "execution_count": 257,
   "metadata": {},
   "outputs": [
    {
     "name": "stdout",
     "output_type": "stream",
     "text": [
      "5.07409\n"
     ]
    },
    {
     "data": {
      "text/plain": [
       "\"\\nplt.subplot(3,2,5)\\nx_cen = int(bx)\\ny_cen = int(by)\\ndat = coadd[y_cen-radius:y_cen+radius,x_cen-radius:x_cen+radius]-sim_img[y_cen-radius:y_cen+radius,x_cen-radius:x_cen+radius]\\nplt.imshow(dat)\\nplt.xlabel('real-sim (true) image(%.2f %.3f %.3f)'%(dat.sum(),dat.max(),dat.min()))\\nprint(dat.sum())\\nprint(dat.max()-dat.min())\\n\\nplt.subplot(3,2,6)\\np=plt.hist(dat.ravel(),bins=20)\\nplt.xlabel('real - sim pixels, mean:%f' %dat.mean())\\nsim_bad = sim_matched[bad_source_idx]\\nprint(sim_bad['gflux'][i],tractor_bad['flux_g'][i])\\nprint(sim_bad['rhalf'][i],sim_bad['e2'][i]**2+sim_bad['e1'][i]**2)\\nprint(tractor_bad['shapeexp_r'][i],tractor_bad['shapeexp_e1'][i]**2+tractor_bad['shapeexp_e2'][i]**2)\\n\""
      ]
     },
     "execution_count": 257,
     "metadata": {},
     "output_type": "execute_result"
    },
    {
     "data": {
      "image/png": "[encoded data removed]",
      "text/plain": [
       "<matplotlib.figure.Figure at 0x2aaaebd06f98>"
      ]
     },
     "metadata": {},
     "output_type": "display_data"
    }
   ],
   "source": [
    "bx = summary[sel]['input_bx'][idx]\n",
    "by = summary[sel]['input_by'][idx]\n",
    "radius = 20\n",
    "\n",
    "plt.figure(figsize = (8,10))\n",
    "plt.subplot(3,2,1)\n",
    "x_cen = int(bx)\n",
    "y_cen = int(by)\n",
    "dat = coadd[y_cen-radius:y_cen+radius,x_cen-radius:x_cen+radius]\n",
    "plt.imshow(dat)\n",
    "plt.xlabel('real image(%f)'%dat.sum())\n",
    "\n",
    "plt.subplot(3,2,2)\n",
    "x_cen = int(bx)\n",
    "y_cen = int(by)\n",
    "dat = model[y_cen-radius:y_cen+radius,x_cen-radius:x_cen+radius]\n",
    "plt.imshow(dat)\n",
    "plt.xlabel('model image(%f)'%dat.sum())\n",
    "\n",
    "plt.subplot(3,2,3)\n",
    "y_cen = int(by)\n",
    "x_cen = int(bx)\n",
    "dat = sim_img.transpose()[y_cen-radius:y_cen+radius,x_cen-radius:x_cen+radius]\n",
    "plt.imshow(dat)\n",
    "plt.xlabel('sim (ELG) image(%f)'%dat.sum())\n",
    "plt.subplot(3,2,4)\n",
    "\n",
    "x_cen = int(bx)\n",
    "y_cen = int(by)\n",
    "dat = coadd[y_cen-radius:y_cen+radius,x_cen-radius:x_cen+radius]-\\\n",
    "model[y_cen-radius:y_cen+radius,x_cen-radius:x_cen+radius]\n",
    "plt.imshow(dat)\n",
    "print(dat.sum())\n",
    "plt.xlabel('real-model image(%f)'%dat.sum())\n",
    "'''\n",
    "plt.subplot(3,2,5)\n",
    "x_cen = int(bx)\n",
    "y_cen = int(by)\n",
    "dat = coadd[y_cen-radius:y_cen+radius,x_cen-radius:x_cen+radius]-\\\n",
    "sim_img[y_cen-radius:y_cen+radius,x_cen-radius:x_cen+radius]\n",
    "plt.imshow(dat)\n",
    "plt.xlabel('real-sim (true) image(%.2f %.3f %.3f)'%(dat.sum(),dat.max(),dat.min()))\n",
    "print(dat.sum())\n",
    "print(dat.max()-dat.min())\n",
    "\n",
    "plt.subplot(3,2,6)\n",
    "p=plt.hist(dat.ravel(),bins=20)\n",
    "plt.xlabel('real - sim pixels, mean:%f' %dat.mean())\n",
    "sim_bad = sim_matched[bad_source_idx]\n",
    "print(sim_bad['gflux'][i],tractor_bad['flux_g'][i])\n",
    "print(sim_bad['rhalf'][i],sim_bad['e2'][i]**2+sim_bad['e1'][i]**2)\n",
    "print(tractor_bad['shapeexp_r'][i],tractor_bad['shapeexp_e1'][i]**2+tractor_bad['shapeexp_e2'][i]**2)\n",
    "'''"
   ]
  },
  {
   "cell_type": "code",
   "execution_count": 258,
   "metadata": {},
   "outputs": [
    {
     "name": "stdout",
     "output_type": "stream",
     "text": [
      "/global/u2/h/huikong/obiwan_codes/obiwan_Aug/obiwan_code/py/ipynb\n"
     ]
    }
   ],
   "source": [
    "!pwd"
   ]
  },
  {
   "cell_type": "code",
   "execution_count": null,
   "metadata": {},
   "outputs": [],
   "source": []
  },
  {
   "cell_type": "code",
   "execution_count": null,
   "metadata": {},
   "outputs": [],
   "source": []
  }
 ],
 "metadata": {
  "kernelspec": {
   "display_name": "DESI 19.2",
   "language": "python",
   "name": "desi-19.2"
  },
  "language_info": {
   "codemirror_mode": {
    "name": "ipython",
    "version": 3
   },
   "file_extension": ".py",
   "mimetype": "text/x-python",
   "name": "python",
   "nbconvert_exporter": "python",
   "pygments_lexer": "ipython3",
   "version": "3.6.6"
  }
 },
 "nbformat": 4,
 "nbformat_minor": 4
}
